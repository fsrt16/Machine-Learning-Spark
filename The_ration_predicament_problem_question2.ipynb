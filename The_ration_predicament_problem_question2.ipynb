{
 "cells": [
  {
   "cell_type": "code",
   "execution_count": 410,
   "metadata": {},
   "outputs": [],
   "source": [
    "# allocate_when_greater function allocates the given without checking any condition and is used as a tool to fire up when \n",
    "# required conditions are made in makes changes to the quantity and thus returns it \n",
    "# since all lists are dynamically made there is an auto change in the list .\n",
    "# z is the allocatio finally decided to be stored for location i as per the sizes \n",
    "def allocate_when_greater(quantity_in_kgs, sizes, logistics_constraints,topups, available_capacity,i,lt,rem):\n",
    "                z=0\n",
    "                lt.append(i)\n",
    "                available_capacity[i] = available_capacity[i] -logistics_constraints[i]\n",
    "                z=z+logistics_constraints[i]\n",
    "                quantity_in_kgs =quantity_in_kgs-logistics_constraints[i]*sizes[i]\n",
    "                while quantity_in_kgs > topups[i]*sizes[i] and available_capacity[i] >=topups[i] :\n",
    "                        quantity_in_kgs =quantity_in_kgs-(topups[i]*sizes[i])\n",
    "                        available_capacity[i] = available_capacity[i] -topups[i]\n",
    "                        z=z+topups[i] \n",
    "                rem.append(z) \n",
    "                return (quantity_in_kgs)"
   ]
  },
  {
   "cell_type": "code",
   "execution_count": 411,
   "metadata": {},
   "outputs": [],
   "source": [
    "# it checks up conditions and fires up allocate_when_greater function\n",
    "# rem is a list of alloctions makes which is mapped to indices which is stored in lt irrespective of whether or not it is allocated or not\n",
    "# to allocate the capacity available must be greater than logistic constraints atleast\n",
    "# if the remaining quantity is greater than the minimum weight to be allocated then we fire up allocate_when_greater\n",
    "# else for deallocating prior indice we check which function which tells us which is the most recent indice allocated such that whose deallocation can create pathway for allocation of ith indice\n",
    "# if no such indice exists indice == -1 , else wise we just proceed to feasible function and print the hash map using print_hash_map\n",
    "def allocate(quantity_in_kgs, sizes, logistics_constraints,topups, available_capacity):\n",
    "    rem=[]\n",
    "    lt=[]\n",
    "    for i in range(0,len(available_capacity)):\n",
    "        if logistics_constraints[i] <= available_capacity[i] :\n",
    "            if quantity_in_kgs >= logistics_constraints[i]*sizes[i]:\n",
    "                quantity_in_kgs=allocate_when_greater(quantity_in_kgs, sizes, logistics_constraints,topups, available_capacity,i,lt,rem)\n",
    "            else:\n",
    "                 m=0\n",
    "                 indice = which(quantity_in_kgs, sizes, logistics_constraints,topups, available_capacity,lt,rem)\n",
    "                 k = lt[indice]\n",
    "                 if indice != -1:\n",
    "                     (lt,rem,quantity_in_kgs,available_capacity) = feasible(quantity_in_kgs, sizes, logistics_constraints,topups, available_capacity,k,i,rem,m,lt)\n",
    "                     print_hash_map(\"reminder\",quantity_in_kgs,\"variant\",sizes,\"uoms\",\n",
    "                                            logistics_constraints,\"allocations\",rem,\"post_alloc_capacity\",\n",
    "                                            available_capacity)\n",
    "                     return\n",
    "        else:\n",
    "            lt.append(i)\n",
    "            rem.append(0)        \n",
    "    print_hash_map(\"reminder\",quantity_in_kgs,\"variant\",sizes,\"uoms\",\n",
    "                        logistics_constraints,\"allocations\",rem,\"post_alloc_capacity\",\n",
    "                        available_capacity)\n",
    "    return"
   ]
  },
  {
   "cell_type": "code",
   "execution_count": 412,
   "metadata": {},
   "outputs": [],
   "source": [
    "# return the indice which can be deallocated in response o the requirement to allocate ith indice \n",
    "def which(quantity_in_kgs, sizes, logistics_constraints,topups, available_capacity,lt,rem):\n",
    "    for i in range(len(lt)-1,-1,-1):\n",
    "        if rem[i] > logistics_constraints[i]:\n",
    "            return i\n",
    "    return -1"
   ]
  },
  {
   "cell_type": "code",
   "execution_count": 413,
   "metadata": {},
   "outputs": [],
   "source": [
    "# returns the quantity and constrain_fullfill_i whether or not changes can be made or not ,\n",
    "# it proceeds system to next allocated phase if possible\n",
    "# or retains the same phase if not possible\n",
    "def edit(quantity_in_kgs, sizes, logistics_constraints,topups,available_capacity ,k,i,rem,m,lt,constrain_to_fullfill_i):\n",
    "    dumy_quantity_in_kgs =quantity_in_kgs\n",
    "    dumy_constrain_to_fullfill_i = constrain_to_fullfill_i\n",
    "    for j in range(k,-1,-1):\n",
    "        while constrain_to_fullfill_i > 0 and (rem[j]) > logistics_constraints[j]:\n",
    "            constrain_to_fullfill_i = constrain_to_fullfill_i - (topups[j]*sizes[j])\n",
    "            available_capacity[j]=available_capacity[j]+topups[j]\n",
    "            rem[j]=rem[j]-topups[j]\n",
    "            quantity_in_kgs = quantity_in_kgs + (topups[j]*sizes[j])\n",
    "        if constrain_to_fullfill_i <=0:\n",
    "            return (quantity_in_kgs , constrain_to_fullfill_i )\n",
    "        if j==0:\n",
    "            return(dumy_quantity_in_kgs , dumy_constrain_to_fullfill_i)  "
   ]
  },
  {
   "cell_type": "code",
   "execution_count": 414,
   "metadata": {},
   "outputs": [],
   "source": [
    "#copies the initial elements \n",
    "# proceed to next phase using edit\n",
    "# if most feasible , profitable and reminder less achieved then remain in here\n",
    "# if not return back ie copy back to original seen constraints\n",
    "def feasible(quantity_in_kgs, sizes, logistics_constraints,topups,available_capacity ,k,i,rem,m,lt):\n",
    "    sz=sizes.copy()\n",
    "    lc=logistics_constraints.copy()\n",
    "    tps=topups.copy()\n",
    "    ac=available_capacity.copy()\n",
    "    rm=rem.copy()\n",
    "    l=lt.copy()\n",
    "    check_rem=quantity_in_kgs\n",
    "    check_rem1 =abs(quantity_in_kgs - logistics_constraints[i]*sizes[i])\n",
    "    constrain_to_fullfill_i = available_capacity[i]*sizes[i] - quantity_in_kgs\n",
    "    (quantity_in_kgs ,constrain_to_fullfill_i )=edit(quantity_in_kgs, sizes, logistics_constraints,topups,available_capacity ,k,i,rem,m,lt,constrain_to_fullfill_i)\n",
    "    if abs(constrain_to_fullfill_i) < check_rem and abs(constrain_to_fullfill_i) < check_rem1 :\n",
    "        if quantity_in_kgs >= logistics_constraints[i]*sizes[i]:\n",
    "            quantity_in_kgs=allocate_when_greater(quantity_in_kgs, sizes, logistics_constraints,topups, available_capacity,i,lt,rem)\n",
    "            return(lt,rem,quantity_in_kgs,available_capacity)\n",
    "    elif check_rem1 < abs(constrain_to_fullfill_i) and check_rem1 < check_rem:\n",
    "        sizes=sz.copy()\n",
    "        logistics_constraints=lc.copy()\n",
    "        topups=tps.copy()\n",
    "        available_capacity=ac.copy()\n",
    "        rem=rm.copy()\n",
    "        lt=l.copy()\n",
    "        quantity_in_kgs=check_rem\n",
    "        if quantity_in_kgs < logistics_constraints[i]*sizes[i]:  \n",
    "                quantity_in_kgs=allocate_when_greater(quantity_in_kgs, sizes, logistics_constraints,topups, available_capacity,i,lt,rem)\n",
    "                return(lt,rem,quantity_in_kgs,available_capacity)\n",
    "    elif check_rem < abs(constrain_to_fullfill_i) and check_rem < check_rem1 :\n",
    "        sizes=sz.copy()\n",
    "        logistics_constraints=lc.copy()\n",
    "        topups=tps.copy()\n",
    "        available_capacity=ac.copy()\n",
    "        rem=rm.copy()\n",
    "        lt=l.copy()\n",
    "        quantity_in_kgs=check_rem\n",
    "        return(lt,rem,quantity_in_kgs,available_capacity)"
   ]
  },
  {
   "cell_type": "code",
   "execution_count": 415,
   "metadata": {},
   "outputs": [],
   "source": [
    "#prints a hash map using dictionary datastructure in python \n",
    "def print_hash_map(reminder,reminder_value,variant,variant_value,uoms,uoms_value,allocation,allocation_value,post_allocation,post_allocation_value):\n",
    "    dict1 = {\n",
    "        reminder : reminder_value,\n",
    "        variant : variant_value,\n",
    "        uoms : uoms_value,\n",
    "        allocation : allocation_value,\n",
    "        post_allocation : post_allocation_value\n",
    "    }\n",
    "    print(dict1)"
   ]
  },
  {
   "cell_type": "code",
   "execution_count": 432,
   "metadata": {},
   "outputs": [
    {
     "name": "stdout",
     "output_type": "stream",
     "text": [
      "{'reminder': 3.0, 'variant': [0.5, 1, 2, 5], 'uoms': [50, 50, 50, 30], 'allocations': [60, 90, 0, 0], 'post_alloc_capacity': [3, 35, 40, 20]}\n",
      "{'reminder': 1.0, 'variant': [0.5, 1, 2, 5], 'uoms': [50, 50, 50, 20], 'allocations': [90, 0, 0, 20], 'post_alloc_capacity': [13, 15, 27, 0]}\n",
      "{'reminder': -1.0, 'variant': [0.5, 1, 2, 5], 'uoms': [50, 50, 50, 20], 'allocations': [60, 60, 50, 20], 'post_alloc_capacity': [0, 5, 5, 0]}\n",
      "{'reminder': 167.0, 'variant': [0.5, 1, 2, 5], 'uoms': [50, 50, 50, 20], 'allocations': [60, 60, 50, 20], 'post_alloc_capacity': [0, 5, 5, 0]}\n",
      "{'reminder': 0.0, 'variant': [0.5, 1, 2, 5], 'uoms': [50, 50, 50, 20], 'allocations': [60, 50, 50, 20], 'post_alloc_capacity': [5, 15, 15, 0]}\n"
     ]
    }
   ],
   "source": [
    "# driver function to fireup all the test cases \n",
    "def driver():\n",
    "    weight=[123,146,289,457,280]\n",
    "    size = [0.5, 1, 2, 5]\n",
    "    variant = [[50,50,50,30],[50,50,50,20],[50,50,50,20],[50,50,50,20],[50,50,50,20]]\n",
    "    topups = [10,10,10,10]\n",
    "    allocation =[[63,125,40,20] , [103,15,27,20] , [60,65,55,20] , [60,65,55,20] , [65,65,65,20]]\n",
    "    for i in range(0,len(weight)):\n",
    "        allocate(weight[i],size,variant[i],topups,allocation[i])\n",
    "    \n",
    "if __name__ == '__main__':\n",
    "    driver()"
   ]
  },
  {
   "cell_type": "code",
   "execution_count": null,
   "metadata": {},
   "outputs": [],
   "source": []
  },
  {
   "cell_type": "code",
   "execution_count": null,
   "metadata": {},
   "outputs": [],
   "source": []
  }
 ],
 "metadata": {
  "kernelspec": {
   "display_name": "Python 3",
   "language": "python",
   "name": "python3"
  },
  "language_info": {
   "codemirror_mode": {
    "name": "ipython",
    "version": 3
   },
   "file_extension": ".py",
   "mimetype": "text/x-python",
   "name": "python",
   "nbconvert_exporter": "python",
   "pygments_lexer": "ipython3",
   "version": "3.6.5"
  }
 },
 "nbformat": 4,
 "nbformat_minor": 2
}
