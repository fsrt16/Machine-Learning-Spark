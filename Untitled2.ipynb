{
 "cells": [
  {
   "cell_type": "code",
   "execution_count": 2,
   "metadata": {},
   "outputs": [],
   "source": [
    "import numpy as np\n",
    "import matplotlib.pyplot as plt\n",
    "import pandas as pd\n",
    "from pyspark.sql import SparkSession"
   ]
  },
  {
   "cell_type": "markdown",
   "metadata": {},
   "source": [
    "# DATA PREPERATION"
   ]
  },
  {
   "cell_type": "code",
   "execution_count": 3,
   "metadata": {},
   "outputs": [
    {
     "name": "stdout",
     "output_type": "stream",
     "text": [
      "The history saving thread hit an unexpected error (OperationalError('disk I/O error',)).History will not be written to the database.\n",
      "+---+---+---+--------+----+---+-------+-------+-----+-------+-----+---+----+------+\n",
      "|age|sex|cp |trestbps|chol|fbs|restecg|thalach|exang|oldpeak|slope|ca |thal|target|\n",
      "+---+---+---+--------+----+---+-------+-------+-----+-------+-----+---+----+------+\n",
      "|63 |1  |3  |145     |233 |1  |0      |150    |0    |2.3    |0    |0  |1   |1     |\n",
      "|37 |1  |2  |130     |250 |0  |1      |187    |0    |3.5    |0    |0  |2   |1     |\n",
      "|41 |0  |1  |130     |204 |0  |0      |172    |0    |1.4    |2    |0  |2   |1     |\n",
      "|56 |1  |1  |120     |236 |0  |1      |178    |0    |0.8    |2    |0  |2   |1     |\n",
      "|57 |0  |0  |120     |354 |0  |1      |163    |1    |0.6    |2    |0  |2   |1     |\n",
      "+---+---+---+--------+----+---+-------+-------+-----+-------+-----+---+----+------+\n",
      "only showing top 5 rows\n",
      "\n"
     ]
    },
    {
     "data": {
      "text/plain": [
       "['age',\n",
       " 'sex',\n",
       " 'cp',\n",
       " 'trestbps',\n",
       " 'chol',\n",
       " 'fbs',\n",
       " 'restecg',\n",
       " 'thalach',\n",
       " 'exang',\n",
       " 'oldpeak',\n",
       " 'slope',\n",
       " 'ca',\n",
       " 'thal',\n",
       " 'target']"
      ]
     },
     "execution_count": 3,
     "metadata": {},
     "output_type": "execute_result"
    }
   ],
   "source": [
    "#dataset = pd.read_csv('Admission_Predict.csv')\n",
    "spark = SparkSession.builder.getOrCreate()\n",
    "#dataset_ps = spark.createDataFrame(dataset)\n",
    "df=spark.read.csv('heart.csv',inferSchema=True,header=True)\n",
    "d1 = pd.DataFrame([[66,1,1,160,246,0,1,120,1,0,1,3,1]] , columns =['age',\n",
    " 'sex',\n",
    " 'cp',\n",
    " 'trestbps',\n",
    " 'chol',\n",
    " 'fbs',\n",
    " 'restecg',\n",
    " 'thalach',\n",
    " 'exang',\n",
    " 'oldpeak',\n",
    " 'slope',\n",
    " 'ca',\n",
    " 'thal'] )\n",
    "sp = spark.createDataFrame(d1)\n",
    "d1\n",
    "df.show(5,False)\n",
    "df.columns"
   ]
  },
  {
   "cell_type": "markdown",
   "metadata": {},
   "source": [
    "# VECTORIZE"
   ]
  },
  {
   "cell_type": "code",
   "execution_count": 4,
   "metadata": {},
   "outputs": [],
   "source": [
    "from pyspark.ml.linalg import Vector\n",
    "from pyspark.ml.feature import VectorAssembler\n"
   ]
  },
  {
   "cell_type": "code",
   "execution_count": 5,
   "metadata": {},
   "outputs": [
    {
     "name": "stdout",
     "output_type": "stream",
     "text": [
      "Feature------>\n",
      "DataFrame[age: int, sex: int, cp: int, trestbps: int, chol: int, fbs: int, restecg: int, thalach: int, exang: int, oldpeak: double, slope: int, ca: int, thal: int, target: int, features: vector]\n",
      "EXPERIMENTAL SP------->\n",
      "DataFrame[age: bigint, sex: bigint, cp: bigint, trestbps: bigint, chol: bigint, fbs: bigint, restecg: bigint, thalach: bigint, exang: bigint, oldpeak: bigint, slope: bigint, ca: bigint, thal: bigint, features: vector]\n"
     ]
    }
   ],
   "source": [
    "vc = VectorAssembler(inputCols = ['age',\n",
    " 'sex',\n",
    " 'cp',\n",
    " 'trestbps',\n",
    " 'chol',\n",
    " 'fbs',\n",
    " 'restecg',\n",
    " 'thalach',\n",
    " 'exang',\n",
    " 'oldpeak',\n",
    " 'slope',\n",
    " 'ca',\n",
    " 'thal'] \n",
    "                     , outputCol = 'features')\n",
    "features_df = vc.transform(df)\n",
    "print(\"Feature------>\")\n",
    "print(features_df)\n",
    "sp1=vc.transform(sp)\n",
    "print(\"EXPERIMENTAL SP------->\")\n",
    "print(sp1)"
   ]
  },
  {
   "cell_type": "markdown",
   "metadata": {},
   "source": [
    "# Spliting model\n"
   ]
  },
  {
   "cell_type": "code",
   "execution_count": 10,
   "metadata": {},
   "outputs": [
    {
     "name": "stdout",
     "output_type": "stream",
     "text": [
      "DataFrame[features: vector, target: int]\n",
      "DataFrame[features: vector, target: int]\n",
      "test:--\n",
      "DataFrame[features: vector, target: int]\n",
      "train:--\n",
      "DataFrame[features: vector, target: int]\n",
      "model:--\n",
      "DataFrame[features: vector, target: int]\n"
     ]
    }
   ],
   "source": [
    "model_df  = features_df.select('features','target') \n",
    "sp1_mod = features_df.select('features','target')\n",
    "print(sp1_mod)\n",
    "print(model_df)\n",
    "train_df , test_df = model_df.randomSplit([0.7,0.3])\n",
    "print(\"test:--\")\n",
    "print(test_df)\n",
    "print(\"train:--\")\n",
    "print(train_df)\n",
    "print(\"model:--\")\n",
    "print(model_df)"
   ]
  },
  {
   "cell_type": "markdown",
   "metadata": {},
   "source": [
    "# Clustering "
   ]
  },
  {
   "cell_type": "markdown",
   "metadata": {},
   "source": [
    "# K-means\n",
    "\n",
    "\n",
    "k-means is one of the most commonly used clustering algorithms that clusters the data points into a predefined number of clusters. The MLlib implementation includes a parallelized variant of the k-means++ method called kmeans||.\n",
    "\n",
    "KMeans is implemented as an Estimator and generates a KMeansModel as the base model.\n",
    "\n",
    "Input Columns\n",
    "Param name\tType(s)\tDefault\tDescription\n",
    "featuresCol\tVector\t\"features\"\tFeature vector\n",
    "\n",
    "\n",
    "Output Columns\n",
    "Param name\tType(s)\tDefault\tDescription\n",
    "predictionCol\tInt\t\"prediction\"\tPredicted cluster center"
   ]
  },
  {
   "cell_type": "code",
   "execution_count": 6,
   "metadata": {},
   "outputs": [],
   "source": [
    "from pyspark.ml.clustering import KMeans"
   ]
  },
  {
   "cell_type": "code",
   "execution_count": 7,
   "metadata": {},
   "outputs": [],
   "source": [
    "cost = np.zeros(20)\n",
    "for k in range(2,20):\n",
    "    kmeans = KMeans().setK(k).setSeed(1).setFeaturesCol(\"features\")\n",
    "    model = kmeans.fit(features_df.sample(False,0.1, seed=42))\n",
    "    cost[k] = model.computeCost(features_df) "
   ]
  },
  {
   "cell_type": "code",
   "execution_count": 8,
   "metadata": {},
   "outputs": [
    {
     "data": {
      "text/plain": [
       "Text(0,0.5,'cost')"
      ]
     },
     "execution_count": 8,
     "metadata": {},
     "output_type": "execute_result"
    },
    {
     "data": {
      "image/png": "[encoded data removed]",
      "text/plain": [
       "<Figure size 576x432 with 1 Axes>"
      ]
     },
     "metadata": {},
     "output_type": "display_data"
    }
   ],
   "source": [
    "fig, ax = plt.subplots(1,1, figsize =(8,6))\n",
    "ax.plot(range(2,20),cost[2:20])\n",
    "ax.set_xlabel('k')\n",
    "ax.set_ylabel('cost')"
   ]
  },
  {
   "cell_type": "code",
   "execution_count": 11,
   "metadata": {},
   "outputs": [
    {
     "name": "stdout",
     "output_type": "stream",
     "text": [
      "Within Set Sum of Squared Errors = 259886.05356986963\n",
      "Cluster Centers: \n",
      "[5.60000000e+01 7.05882353e-01 1.05882353e+00 1.33509804e+02\n",
      " 2.58431373e+02 2.35294118e-01 3.52941176e-01 1.54686275e+02\n",
      " 3.33333333e-01 1.06862745e+00 1.41176471e+00 7.05882353e-01\n",
      " 2.43137255e+00]\n",
      "[5.49487179e+01 7.43589744e-01 1.00000000e+00 1.29641026e+02\n",
      " 1.83076923e+02 1.28205128e-01 5.64102564e-01 1.39025641e+02\n",
      " 3.84615385e-01 1.37435897e+00 1.28205128e+00 6.92307692e-01\n",
      " 2.28205128e+00]\n",
      "[4.97543860e+01 7.01754386e-01 1.17543860e+00 1.32087719e+02\n",
      " 2.20561404e+02 1.40350877e-01 6.14035088e-01 1.66508772e+02\n",
      " 1.75438596e-01 7.42105263e-01 1.52631579e+00 4.91228070e-01\n",
      " 2.28070175e+00]\n",
      "[5.66071429e+01 4.28571429e-01 7.50000000e-01 1.34571429e+02\n",
      " 3.35535714e+02 1.78571429e-01 5.00000000e-01 1.58357143e+02\n",
      " 3.21428571e-01 9.71428571e-01 1.57142857e+00 6.78571429e-01\n",
      " 2.35714286e+00]\n",
      "[5.96428571e+01 6.78571429e-01 3.21428571e-01 1.33214286e+02\n",
      " 2.74107143e+02 1.78571429e-01 2.85714286e-01 1.13107143e+02\n",
      " 6.07142857e-01 1.46071429e+00 1.07142857e+00 1.46428571e+00\n",
      " 2.46428571e+00]\n"
     ]
    }
   ],
   "source": [
    "kmeans = KMeans().setK(5).setSeed(1)\n",
    "model = kmeans.fit(train_df)\n",
    "\n",
    "# Evaluate clustering by computing Within Set Sum of Squared Errors.\n",
    "wssse = model.computeCost(train_df)\n",
    "print(\"Within Set Sum of Squared Errors = \" + str(wssse))\n",
    "\n",
    "# Shows the result.\n",
    "centers = model.clusterCenters()\n",
    "print(\"Cluster Centers: \")\n",
    "for center in centers:\n",
    "    print(center)"
   ]
  },
  {
   "cell_type": "code",
   "execution_count": null,
   "metadata": {},
   "outputs": [],
   "source": [
    "model_k3_data = model.transform(test_df)\n",
    "model_k3_data.groupBy('prediction').count().show()"
   ]
  },
  {
   "cell_type": "markdown",
   "metadata": {},
   "source": [
    "# Latent Dirichlet allocation (LDA)\n",
    "\n",
    "LDA is implemented as an Estimator that supports both EMLDAOptimizer and OnlineLDAOptimizer, and generates a LDAModel as the base model. Expert users may cast a LDAModel generated by EMLDAOptimizer to a DistributedLDAModel if needed."
   ]
  },
  {
   "cell_type": "code",
   "execution_count": 8,
   "metadata": {},
   "outputs": [],
   "source": [
    "from pyspark.ml.clustering import LDA"
   ]
  },
  {
   "cell_type": "code",
   "execution_count": 11,
   "metadata": {},
   "outputs": [
    {
     "name": "stdout",
     "output_type": "stream",
     "text": [
      "The lower bound on the log likelihood of the entire corpus: -161304.47782478202\n",
      "The upper bound on perplexity: 1.3650759938186716\n",
      "The topics described by their top-weighted terms:\n",
      "+-----+-----------+---------------------------------------------------------------+\n",
      "|topic|termIndices|termWeights                                                    |\n",
      "+-----+-----------+---------------------------------------------------------------+\n",
      "|0    |[12, 0, 10]|[0.0942056329549547, 0.08787426391099323, 0.08618160502847386] |\n",
      "|1    |[8, 10, 9] |[0.09437293796050147, 0.09141342327733099, 0.08814620799300239]|\n",
      "|2    |[9, 8, 4]  |[0.08640129844520673, 0.0835769384920902, 0.08115164689284501] |\n",
      "|3    |[3, 1, 0]  |[0.08935298976083425, 0.08383169281963579, 0.08209728313001124]|\n",
      "|4    |[4, 7, 3]  |[0.43247869647442216, 0.23613485026582157, 0.2206993813033003] |\n",
      "|5    |[7, 4, 3]  |[0.3563635509127903, 0.30870356363658347, 0.24332611428970394] |\n",
      "|6    |[10, 9, 3] |[0.09567479866431437, 0.08758350053608335, 0.08182022848081973]|\n",
      "|7    |[1, 0, 10] |[0.0904727319290465, 0.087240475497853, 0.08475170228372317]   |\n",
      "|8    |[8, 9, 5]  |[0.09262801803351112, 0.09018186751584774, 0.08290156298142208]|\n",
      "|9    |[6, 4, 8]  |[0.09143947098869994, 0.08831247438934389, 0.08787563689769587]|\n",
      "+-----+-----------+---------------------------------------------------------------+\n",
      "\n",
      "+------------------------------------------------------------+------+------------------------------------------------------------------------------------------------------------------------------------------------------------------------------------------------------------------------+\n",
      "|features                                                    |target|topicDistribution                                                                                                                                                                                                       |\n",
      "+------------------------------------------------------------+------+------------------------------------------------------------------------------------------------------------------------------------------------------------------------------------------------------------------------+\n",
      "|(13,[0,1,3,4,7,10,12],[41.0,1.0,110.0,172.0,158.0,2.0,3.0]) |0     |[1.6665761538750909E-4,1.6665753237713458E-4,1.6665780044520866E-4,1.6665776420342007E-4,0.3325529486193357,0.6661137897786287,1.6665776600131266E-4,1.666580211249756E-4,1.6665753106335392E-4,1.6665757143266964E-4]  |\n",
      "|(13,[0,1,3,4,7,10,12],[45.0,1.0,115.0,260.0,185.0,2.0,2.0]) |1     |[1.3310065983573296E-4,1.3310066463782374E-4,1.3310086112560562E-4,1.331008322110762E-4,0.6855881104613726,0.31334708329608746,1.3310082320735193E-4,1.3310103526112426E-4,1.3310066469381787E-4,1.3310070156726127E-4] |\n",
      "|(13,[0,1,3,4,7,10,12],[59.0,1.0,138.0,271.0,182.0,2.0,2.0]) |1     |[1.2396851965369357E-4,1.239685119599935E-4,1.2396869916273806E-4,1.2396868838733218E-4,0.7836519416929187,0.2153563092736316,1.239686759514743E-4,1.2396886234058706E-4,1.2396852136045369E-4,1.239685546334884E-4]    |\n",
      "|(13,[0,2,3,4,7,10],[53.0,2.0,128.0,216.0,115.0,2.0])        |1     |[1.5730683279848907E-4,1.5730690233723357E-4,1.5730726755404435E-4,1.5730707732317318E-4,0.9985542854514133,1.8725783405349256E-4,1.5730721119291217E-4,1.5730731516667355E-4,1.573070570011E-4,1.573070511595116E-4]   |\n",
      "|(13,[0,2,3,4,7,10,12],[54.0,2.0,108.0,267.0,167.0,2.0,2.0]) |1     |[1.3486697975708458E-4,1.348669237902942E-4,1.3486724793672402E-4,1.348670868443129E-4,0.8730224155261922,0.1258986475983345,1.3486718835776428E-4,1.348672942437297E-4,1.3486706323952928E-4,1.34867091303929E-4]      |\n",
      "|(13,[0,2,3,4,7,10,12],[63.0,2.0,135.0,252.0,172.0,2.0,2.0]) |1     |[1.292910091144642E-4,1.2929094052776768E-4,1.2929123589554417E-4,1.292911284724256E-4,0.743585783963767,0.2553798870498335,1.2929120024572925E-4,1.2929129552431977E-4,1.292910706923056E-4,1.292911059270486E-4]      |\n",
      "|(13,[0,3,4,7,8,10,12],[46.0,138.0,243.0,152.0,1.0,1.0,2.0]) |1     |[1.3925584536194133E-4,1.392559063967713E-4,1.3925600942249982E-4,1.392559710335166E-4,0.8581284723216621,0.14075748000206784,1.3925597750663767E-4,1.3925599485196155E-4,1.392559748693463E-4,1.392559968273057E-4]    |\n",
      "|(13,[0,3,4,7,9,10,12],[53.0,130.0,264.0,143.0,0.4,1.0,2.0]) |1     |[1.3681838086036563E-4,1.368182936631886E-4,1.3681852596158592E-4,1.3681851433100287E-4,0.9987425963314464,1.628559892373222E-4,1.368185292586907E-4,1.3681861380820758E-4,1.3681838953302354E-4,1.3681843190015968E-4] |\n",
      "|(13,[0,3,4,7,9,10,12],[58.0,100.0,248.0,122.0,1.0,1.0,2.0]) |1     |[1.5258342335205366E-4,1.5258330711431502E-4,1.5258358403768448E-4,1.5258352805658189E-4,0.9985977164013055,1.816156990680719E-4,1.5258358206419648E-4,1.5258364790526592E-4,1.525834414916982E-4,1.525833856045321E-4] |\n",
      "|(13,[0,3,4,7,9,10,12],[62.0,140.0,394.0,157.0,1.2,1.0,2.0]) |1     |[1.0725546029792815E-4,1.0725542232569621E-4,1.0725560255197904E-4,1.0725557103927336E-4,0.999014276551575,1.2767915668739278E-4,1.072555760610607E-4,1.07255646477221E-4,1.0725551074951267E-4,1.072555022348417E-4]   |\n",
      "|(13,[0,3,4,7,10,11,12],[57.0,128.0,303.0,159.0,2.0,1.0,2.0])|1     |[1.245381786242389E-4,1.245381609131206E-4,1.2453834889189594E-4,1.2453829312528603E-4,0.9988554589147496,1.4823501320780782E-4,1.2453828769198508E-4,1.2453843121568763E-4,1.2453815891441192E-4,1.2453821266577864E-4]|\n",
      "|(13,[0,3,4,7,10,12],[50.0,110.0,254.0,159.0,2.0,2.0])       |1     |[1.407013856875433E-4,1.4070130178849165E-4,1.4070151103759716E-4,1.407014532287489E-4,0.9987069142183028,1.6747419217195337E-4,1.4070156722823904E-4,1.4070164141690287E-4,1.4070134588479286E-4,1.4070138325312002E-4]|\n",
      "|[29.0,1.0,1.0,130.0,204.0,0.0,0.0,202.0,0.0,0.0,2.0,0.0,2.0]|1     |[1.4217768224680224E-4,1.4217770861067256E-4,1.4217793760206977E-4,1.4217789787439233E-4,2.210537574912098E-4,0.9986415235409837,1.4217785930211512E-4,1.421780905400114E-4,1.4217773223802017E-4,1.421777931110017E-4] |\n",
      "|[34.0,0.0,1.0,118.0,210.0,0.0,1.0,192.0,0.0,0.7,2.0,0.0,2.0]|1     |[1.447858080706142E-4,1.4478581574295298E-4,1.447859838038763E-4,1.447859548153819E-4,0.2916759670244293,0.707165745690374,1.4478600213283535E-4,1.4478598398658053E-4,1.4478587994906362E-4,1.4478585669520325E-4]     |\n",
      "|[35.0,0.0,0.0,138.0,183.0,0.0,1.0,182.0,0.0,1.4,2.0,0.0,2.0]|1     |[1.4911433661249433E-4,1.4911438915105098E-4,1.4911450771959556E-4,1.4911448800368685E-4,0.17856296829805493,0.8202441163741943,1.49114581153208E-4,1.4911441350094724E-4,1.491144526978817E-4,1.491141589120963E-4]    |\n",
      "|[35.0,1.0,0.0,120.0,198.0,0.0,1.0,130.0,1.0,1.6,1.0,0.0,3.0]|0     |[1.651025400008316E-4,1.651028298207284E-4,1.6510275101335126E-4,1.651027729856776E-4,0.7667953991329833,0.23188377933319712,1.6510266585466435E-4,1.6510260592704143E-4,1.6510276714541545E-4,1.6510260107195678E-4]   |\n",
      "|[35.0,1.0,1.0,122.0,192.0,0.0,1.0,174.0,0.0,0.0,2.0,0.0,2.0]|1     |[1.5315865830765486E-4,1.5315871246239605E-4,1.5315888326044132E-4,1.531589155085983E-4,0.2696192943674879,0.729155435069347,1.531588348227829E-4,1.531590385672077E-4,1.5315868890642605E-4,1.5315883132950903E-4]     |\n",
      "|[37.0,0.0,2.0,120.0,215.0,0.0,1.0,170.0,0.0,0.0,2.0,0.0,2.0]|1     |[1.478663762627394E-4,1.4786635852007474E-4,1.4786657145687279E-4,1.478665365636039E-4,0.4543269070871326,0.5444901608742592,1.4786656096169053E-4,1.4786661903457398E-4,1.478664300910815E-4,1.4786658571758419E-4]    |\n",
      "|[39.0,0.0,2.0,94.0,199.0,0.0,1.0,179.0,0.0,0.0,2.0,0.0,2.0] |1     |[1.5670065452193168E-4,1.567006054784205E-4,1.567008545799659E-4,1.5670079782698434E-4,0.3436174819081728,0.6551289118808471,1.5670083284298798E-4,1.5670091129196644E-4,1.5670069968103765E-4,1.5670085475692498E-4]   |\n",
      "|[39.0,0.0,2.0,138.0,220.0,0.0,1.0,152.0,0.0,0.0,1.0,0.0,2.0]|1     |[1.4627025169488368E-4,1.4627022819338153E-4,1.4627046574583648E-4,1.4627047723573646E-4,0.6053630289057651,0.393466807890253,1.462704145194899E-4,1.462704875674741E-4,1.46270338205638E-4,1.462705408196179E-4]       |\n",
      "+------------------------------------------------------------+------+------------------------------------------------------------------------------------------------------------------------------------------------------------------------------------------------------------------------+\n",
      "only showing top 20 rows\n",
      "\n"
     ]
    }
   ],
   "source": [
    "lda = LDA(k=10, maxIter=10)\n",
    "model = lda.fit(train_df)\n",
    "\n",
    "ll = model.logLikelihood(train_df)\n",
    "lp = model.logPerplexity(train_df)\n",
    "print(\"The lower bound on the log likelihood of the entire corpus: \" + str(ll))\n",
    "print(\"The upper bound on perplexity: \" + str(lp))\n",
    "\n",
    "# Describe topics.\n",
    "topics = model.describeTopics(3)\n",
    "print(\"The topics described by their top-weighted terms:\")\n",
    "topics.show(truncate=False)\n",
    "\n",
    "# Shows the result\n",
    "transformed = model.transform(train_df)\n",
    "transformed.show(truncate=False)"
   ]
  },
  {
   "cell_type": "markdown",
   "metadata": {},
   "source": [
    "# Bisecting k-means\n",
    "\n",
    "\n",
    "Bisecting k-means is a kind of hierarchical clustering using a divisive (or “top-down”) approach: all observations start in one cluster, and splits are performed recursively as one moves down the hierarchy.\n",
    "\n",
    "Bisecting K-means can often be much faster than regular K-means, but it will generally produce a different clustering."
   ]
  },
  {
   "cell_type": "code",
   "execution_count": 12,
   "metadata": {},
   "outputs": [],
   "source": [
    "from pyspark.ml.clustering import BisectingKMeans"
   ]
  },
  {
   "cell_type": "code",
   "execution_count": 13,
   "metadata": {},
   "outputs": [
    {
     "name": "stdout",
     "output_type": "stream",
     "text": [
      "Within Set Sum of Squared Errors = 419857.8269841256\n",
      "Cluster Centers: \n",
      "[5.29603175e+01 6.98412698e-01 1.00793651e+00 1.29706349e+02\n",
      " 2.14182540e+02 1.58730159e-01 6.50793651e-01 1.50547619e+02\n",
      " 2.53968254e-01 8.66666667e-01 1.41269841e+00 6.03174603e-01\n",
      " 2.22222222e+00]\n",
      "[5.69733333e+01 6.13333333e-01 8.00000000e-01 1.34693333e+02\n",
      " 2.96240000e+02 1.20000000e-01 4.13333333e-01 1.46786667e+02\n",
      " 4.00000000e-01 1.06666667e+00 1.38666667e+00 8.26666667e-01\n",
      " 2.36000000e+00]\n"
     ]
    }
   ],
   "source": [
    "# Trains a bisecting k-means model.\n",
    "bkm = BisectingKMeans().setK(2).setSeed(1)\n",
    "model = bkm.fit(train_df)\n",
    "\n",
    "# Evaluate clustering.\n",
    "cost = model.computeCost(train_df)\n",
    "print(\"Within Set Sum of Squared Errors = \" + str(cost))\n",
    "\n",
    "# Shows the result.\n",
    "print(\"Cluster Centers: \")\n",
    "centers = model.clusterCenters()\n",
    "for center in centers:\n",
    "    print(center)"
   ]
  },
  {
   "cell_type": "markdown",
   "metadata": {},
   "source": [
    "# Gaussian Mixture Model (GMM)\n",
    "\n",
    "\n",
    "A Gaussian Mixture Model represents a composite distribution whereby points are drawn from one of k Gaussian sub-distributions, each with its own probability. The spark.ml implementation uses the expectation-maximization algorithm to induce the maximum-likelihood model given a set of samples.\n",
    "\n",
    "GaussianMixture is implemented as an Estimator and generates a GaussianMixtureModel as the base model.\n",
    "\n",
    "\n",
    "Input Columns\n",
    "Param name\tType(s)\tDefault\tDescription\n",
    "featuresCol\tVector\t\"features\"\tFeature vector\n",
    "\n",
    "\n",
    "Output Columns\n",
    "Param name\tType(s)\tDefault\tDescription\n",
    "predictionCol\tInt\t\"prediction\"\tPredicted cluster center\n",
    "probabilityCol\tVector\t\"probability\"\tProbability of each cluster"
   ]
  },
  {
   "cell_type": "code",
   "execution_count": 14,
   "metadata": {},
   "outputs": [],
   "source": [
    "from pyspark.ml.clustering import GaussianMixture"
   ]
  },
  {
   "cell_type": "code",
   "execution_count": 16,
   "metadata": {},
   "outputs": [
    {
     "name": "stdout",
     "output_type": "stream",
     "text": [
      "Gaussians shown as a DataFrame: \n",
      "+--------------------------------------------------------------------------------------------------------------------------------------------------------------------------------------------------------------------------------------------------------+------------------------------------------------------------------------------------------------------------------------------------------------------------------------------------------------------------------------------------------------------------------------------------------------------------------------------------------------------------------------------------------------------------------------------------------------------------------------------------------------------------------------------------------------------------------------------------------------------------------------------------------------------------------------------------+\n",
      "|mean                                                                                                                                                                                                                                                    |cov                                                                                                                                                                                                                                                                                                                                                                                                                                                                                                                                                                                                                                                                                 |\n",
      "+--------------------------------------------------------------------------------------------------------------------------------------------------------------------------------------------------------------------------------------------------------+------------------------------------------------------------------------------------------------------------------------------------------------------------------------------------------------------------------------------------------------------------------------------------------------------------------------------------------------------------------------------------------------------------------------------------------------------------------------------------------------------------------------------------------------------------------------------------------------------------------------------------------------------------------------------------+\n",
      "|[51.8728418123485,0.5166986650918476,1.1366402326432001,128.74530829991562,246.8108304849967,0.0011352857050381743,0.596555567443411,157.1804256980896,0.08229885424684086,0.49125678709014137,1.5418992639553921,0.14006991739289637,2.150707159015099]|88.58039383623093      -0.32119788593066434   ... (13 total)\n",
      "-0.32119788593066434   0.24972115458415034    ...\n",
      "-0.06098877188285364   -0.10003087604940615   ...\n",
      "51.659204291009644     -0.563584991826926     ...\n",
      "140.79169575743697     -1.1781312125241596    ...\n",
      "0.0033723992912056164  -3.264008387186869E-4  ...\n",
      "-0.21635667012346413   7.38918969785836E-4    ...\n",
      "-93.13052460258317     1.2301740136967791     ...\n",
      "0.002486235287549042   -0.028090790208636137  ...\n",
      "1.6503093515737215     -0.03724418374783547   ...\n",
      "-1.0176609977639923    0.043020527886015895   ...\n",
      "0.6503605349295536     0.018355237753854434   ...\n",
      "0.6617686326171733     0.06725346652438235    ...|\n",
      "|[57.26986678640723,0.8298212459285293,0.705917181014505,134.63714380057044,242.61443618940297,0.30000841671856715,0.5248007194537322,140.40151892642945,0.5545025530401403,1.4309016824256506,1.2518562613107065,1.2811175177936143,2.407365200754536]  |57.87590157151627      -0.7007746503313828    ... (13 total)\n",
      "-0.7007746503313828    0.1412179457341525     ...\n",
      "-1.2527513392197933    0.026747908472586603   ...\n",
      "21.641698674971675     -0.8363615988360547    ...\n",
      "78.74823835216593      -6.160265715920034     ...\n",
      "-0.28605278878056595   -0.0207068646832995    ...\n",
      "-0.474057667375178     -0.034110160172477644  ...\n",
      "-33.07565892701536     0.05573627141787644    ...\n",
      "-0.29577190981971585   0.022769982809929774   ...\n",
      "0.6781091754506947     0.01567299052834148    ...\n",
      "2.8801957894329894E-4  -0.020256863332945338  ...\n",
      "2.4392223794694132     -0.050320724112555254  ...\n",
      "-0.5190225597727953    0.01307311341578859    ...|\n",
      "+--------------------------------------------------------------------------------------------------------------------------------------------------------------------------------------------------------------------------------------------------------+------------------------------------------------------------------------------------------------------------------------------------------------------------------------------------------------------------------------------------------------------------------------------------------------------------------------------------------------------------------------------------------------------------------------------------------------------------------------------------------------------------------------------------------------------------------------------------------------------------------------------------------------------------------------------------+\n",
      "\n"
     ]
    }
   ],
   "source": [
    "gmm = GaussianMixture().setK(2).setSeed(538009335)\n",
    "model = gmm.fit(train_df)\n",
    "\n",
    "print(\"Gaussians shown as a DataFrame: \")\n",
    "model.gaussiansDF.show(truncate=False)"
   ]
  },
  {
   "cell_type": "code",
   "execution_count": null,
   "metadata": {},
   "outputs": [],
   "source": []
  }
 ],
 "metadata": {
  "kernelspec": {
   "display_name": "Python 3",
   "language": "python",
   "name": "python3"
  },
  "language_info": {
   "codemirror_mode": {
    "name": "ipython",
    "version": 3
   },
   "file_extension": ".py",
   "mimetype": "text/x-python",
   "name": "python",
   "nbconvert_exporter": "python",
   "pygments_lexer": "ipython3",
   "version": "3.6.5"
  }
 },
 "nbformat": 4,
 "nbformat_minor": 2
}
